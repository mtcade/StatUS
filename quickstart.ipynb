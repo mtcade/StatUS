{
 "cells": [
  {
   "cell_type": "code",
   "execution_count": null,
   "id": "2f7bdf20",
   "metadata": {},
   "outputs": [],
   "source": [
    "# Hexathello can be played as a game, or played by AI to train"
   ]
  }
 ],
 "metadata": {
  "kernelspec": {
   "display_name": "Python 3.11 env",
   "language": "python",
   "name": "python3.11"
  },
  "language_info": {
   "codemirror_mode": {
    "name": "ipython",
    "version": 3
   },
   "file_extension": ".py",
   "mimetype": "text/x-python",
   "name": "python",
   "nbconvert_exporter": "python",
   "pygments_lexer": "ipython3",
   "version": "3.11.10"
  }
 },
 "nbformat": 4,
 "nbformat_minor": 5
}
