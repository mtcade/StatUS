{
 "cells": [
  {
   "cell_type": "code",
   "execution_count": 1,
   "id": "fcec82b9",
   "metadata": {},
   "outputs": [],
   "source": [
    "from hexathello import aiPlayers, autoPlayer, engine, history, jable, printing\n",
    "\n",
    "import numpy as np\n",
    "\n",
    "from os import path\n",
    "\n",
    "# -- Settings\n",
    "game_size: int = 5\n",
    "player_count: int = 2"
   ]
  },
  {
   "cell_type": "code",
   "execution_count": 2,
   "id": "5e522d94",
   "metadata": {},
   "outputs": [],
   "source": [
    "# We want to train a KerasHexAgent. To do this, we use data we created in `quickstart_recording_data.ipynb`\n",
    "\n",
    "history_dir: str = path.join(\n",
    "    'data',\n",
    "    'history',\n",
    "    'examples'\n",
    ")\n",
    "assert path.isdir(\n",
    "    history_dir\n",
    ")\n",
    "\n",
    "baseline_data_path: str = path.join(\n",
    "    history_dir,\n",
    "    'greendom_size-{}_players-{}.json'.format(\n",
    "        game_size, player_count\n",
    "    )\n",
    ")\n",
    "   "
   ]
  },
  {
   "cell_type": "code",
   "execution_count": 3,
   "id": "40326708",
   "metadata": {},
   "outputs": [],
   "source": [
    "# Read the data from disk to learn from\n",
    "history_fromDisk: jable.JyFrame = jable.read_file(\n",
    "    baseline_data_path\n",
    ")\n",
    "\n",
    "# Decode the state, option, and play vectors from integers to numpy arrays\n",
    "history_decoded: jable.JyFrame = history.history_fromInt(\n",
    "    history_fromDisk\n",
    ")\n",
    "\n",
    "assert len( history_decoded ) >= 20000\n",
    "    \n",
    "# Make it PoV 0 to appropriately learn\n",
    "povHistory: jable.JyFrame = history.povHistory_from_literalHistory(\n",
    "    history_decoded\n",
    ")\n",
    "\n",
    "del history_decoded\n",
    "del history_fromDisk"
   ]
  },
  {
   "cell_type": "code",
   "execution_count": 4,
   "id": "e89f7ce8",
   "metadata": {},
   "outputs": [
    {
     "name": "stderr",
     "output_type": "stream",
     "text": [
      "2025-03-27 13:59:44.619086: I tensorflow/core/platform/cpu_feature_guard.cc:210] This TensorFlow binary is optimized to use available CPU instructions in performance-critical operations.\n",
      "To enable the following instructions: AVX2 FMA, in other operations, rebuild TensorFlow with the appropriate compiler flags.\n"
     ]
    },
    {
     "name": "stdout",
     "output_type": "stream",
     "text": [
      "Epoch 1/2\n",
      "\u001b[1m300/300\u001b[0m \u001b[32m━━━━━━━━━━━━━━━━━━━━\u001b[0m\u001b[37m\u001b[0m \u001b[1m1s\u001b[0m 1ms/step - loss: 0.1068\n",
      "Epoch 2/2\n",
      "\u001b[1m300/300\u001b[0m \u001b[32m━━━━━━━━━━━━━━━━━━━━\u001b[0m\u001b[37m\u001b[0m \u001b[1m0s\u001b[0m 1ms/step - loss: 0.0538\n"
     ]
    }
   ],
   "source": [
    "# We want to train a Keras Neural Network on the data we have.\n",
    "# The input size is the length of a state vector\n",
    "# The output size is the length of the play vector\n",
    "# Take both from the first row\n",
    "input_size: int = len( povHistory[0,'board_state'] )\n",
    "output_size: int = len( povHistory[0, 'player_action'] )\n",
    "\n",
    "# The `KerasHexAgent` subclass of `HexAgent` has a `brain` property; this is the neural network\n",
    "# We could in fact us any objects conforming to the `PredictionModel` protocol, which has methods:\n",
    "#   - fit()\n",
    "#   - predict()\n",
    "#   - call()\n",
    "#\n",
    "# We're going to train it on the Greendom data\n",
    "# Match the input to a board state vector\n",
    "import tensorflow as tf\n",
    "\n",
    "ai_keras_id: str = 'kha_alpha_size-{}_players-{}_0'.format(\n",
    "    game_size, player_count\n",
    ")\n",
    "\n",
    "ai_keras_path: str = path.join(\n",
    "    'data',\n",
    "    'ai',\n",
    "    'examples',\n",
    "    '{}.keras'.format( ai_keras_id )\n",
    ")\n",
    "\n",
    "brain_model: tf.keras.Model\n",
    "if path.isfile( ai_keras_path ):\n",
    "    brain_model = tf.keras.models.load_model( ai_keras_path )\n",
    "#\n",
    "else:\n",
    "    brain_input = tf.keras.layers.Input(\n",
    "        shape = (input_size,),\n",
    "        name = 'keras_tensor'\n",
    "    )\n",
    "\n",
    "    # Get creative with architecture on the inside\n",
    "    brain_next = tf.keras.layers.Dense(\n",
    "        input_size*2,\n",
    "        activation = 'relu'\n",
    "    )( brain_input )\n",
    "\n",
    "    brain_next = tf.keras.layers.Dense(\n",
    "        input_size*2,\n",
    "        activation = 'relu'\n",
    "    )( brain_next )\n",
    "\n",
    "    # Make the output size equal to the move vector size\n",
    "    brain_output = tf.keras.layers.Dense(\n",
    "        output_size,\n",
    "        activation = 'sigmoid'\n",
    "    )( brain_next )\n",
    "\n",
    "    brain_model: tf.keras.Model = tf.keras.Model(\n",
    "        brain_input,\n",
    "        brain_output\n",
    "    )\n",
    "\n",
    "    # Choose your learning rate and optimizer. Adam is probably good for the latter.\n",
    "    # You most likely want Binary Cross Entropy. Learning rate 0.0001 to 0.01 is likely fine\n",
    "    brain_model.compile(\n",
    "        optimizer = tf.keras.optimizers.Adam(\n",
    "            learning_rate = 0.005\n",
    "        ),\n",
    "        loss = tf.keras.losses.BinaryCrossentropy()\n",
    "    )\n",
    "#/if path.isfile( ai_keras_path )\n",
    "\n",
    "# Init the AI Agent\n",
    "ai_keras: aiPlayers.KerasHexAgent = aiPlayers.KerasHexAgent(\n",
    "    size = game_size,\n",
    "    player_count = player_count,\n",
    "    brain = brain_model,\n",
    "    player_id = None,\n",
    "    ai_id = ai_keras_id\n",
    ")\n",
    "\n",
    "# Set the checkpoint to save\n",
    "ai_keras_checkpoint_callback = tf.keras.callbacks.ModelCheckpoint(\n",
    "    filepath=ai_keras_path,\n",
    "    monitor='loss',\n",
    "    mode='min',\n",
    "    save_best_only=True\n",
    ")\n",
    "\n",
    "ai_keras.train(\n",
    "    game_history = povHistory,\n",
    "    epochs = 2,\n",
    "    callbacks = [ ai_keras_checkpoint_callback ]\n",
    ")\n",
    "\n"
   ]
  },
  {
   "cell_type": "code",
   "execution_count": 5,
   "id": "8ce68f38",
   "metadata": {},
   "outputs": [
    {
     "data": {
      "text/html": [
       "<pre style=\"white-space:pre;overflow-x:auto;line-height:normal;font-family:Menlo,'DejaVu Sans Mono',consolas,'Courier New',monospace\"><span style=\"font-weight: bold\">Model: \"functional\"</span>\n",
       "</pre>\n"
      ],
      "text/plain": [
       "\u001b[1mModel: \"functional\"\u001b[0m\n"
      ]
     },
     "metadata": {},
     "output_type": "display_data"
    },
    {
     "data": {
      "text/html": [
       "<pre style=\"white-space:pre;overflow-x:auto;line-height:normal;font-family:Menlo,'DejaVu Sans Mono',consolas,'Courier New',monospace\">┏━━━━━━━━━━━━━━━━━━━━━━━━━━━━━━━━━┳━━━━━━━━━━━━━━━━━━━━━━━━┳━━━━━━━━━━━━━━━┓\n",
       "┃<span style=\"font-weight: bold\"> Layer (type)                    </span>┃<span style=\"font-weight: bold\"> Output Shape           </span>┃<span style=\"font-weight: bold\">       Param # </span>┃\n",
       "┡━━━━━━━━━━━━━━━━━━━━━━━━━━━━━━━━━╇━━━━━━━━━━━━━━━━━━━━━━━━╇━━━━━━━━━━━━━━━┩\n",
       "│ keras_tensor (<span style=\"color: #0087ff; text-decoration-color: #0087ff\">InputLayer</span>)       │ (<span style=\"color: #00d7ff; text-decoration-color: #00d7ff\">None</span>, <span style=\"color: #00af00; text-decoration-color: #00af00\">122</span>)            │             <span style=\"color: #00af00; text-decoration-color: #00af00\">0</span> │\n",
       "├─────────────────────────────────┼────────────────────────┼───────────────┤\n",
       "│ dense (<span style=\"color: #0087ff; text-decoration-color: #0087ff\">Dense</span>)                   │ (<span style=\"color: #00d7ff; text-decoration-color: #00d7ff\">None</span>, <span style=\"color: #00af00; text-decoration-color: #00af00\">244</span>)            │        <span style=\"color: #00af00; text-decoration-color: #00af00\">30,012</span> │\n",
       "├─────────────────────────────────┼────────────────────────┼───────────────┤\n",
       "│ dense_1 (<span style=\"color: #0087ff; text-decoration-color: #0087ff\">Dense</span>)                 │ (<span style=\"color: #00d7ff; text-decoration-color: #00d7ff\">None</span>, <span style=\"color: #00af00; text-decoration-color: #00af00\">244</span>)            │        <span style=\"color: #00af00; text-decoration-color: #00af00\">59,780</span> │\n",
       "├─────────────────────────────────┼────────────────────────┼───────────────┤\n",
       "│ dense_2 (<span style=\"color: #0087ff; text-decoration-color: #0087ff\">Dense</span>)                 │ (<span style=\"color: #00d7ff; text-decoration-color: #00d7ff\">None</span>, <span style=\"color: #00af00; text-decoration-color: #00af00\">61</span>)             │        <span style=\"color: #00af00; text-decoration-color: #00af00\">14,945</span> │\n",
       "└─────────────────────────────────┴────────────────────────┴───────────────┘\n",
       "</pre>\n"
      ],
      "text/plain": [
       "┏━━━━━━━━━━━━━━━━━━━━━━━━━━━━━━━━━┳━━━━━━━━━━━━━━━━━━━━━━━━┳━━━━━━━━━━━━━━━┓\n",
       "┃\u001b[1m \u001b[0m\u001b[1mLayer (type)                   \u001b[0m\u001b[1m \u001b[0m┃\u001b[1m \u001b[0m\u001b[1mOutput Shape          \u001b[0m\u001b[1m \u001b[0m┃\u001b[1m \u001b[0m\u001b[1m      Param #\u001b[0m\u001b[1m \u001b[0m┃\n",
       "┡━━━━━━━━━━━━━━━━━━━━━━━━━━━━━━━━━╇━━━━━━━━━━━━━━━━━━━━━━━━╇━━━━━━━━━━━━━━━┩\n",
       "│ keras_tensor (\u001b[38;5;33mInputLayer\u001b[0m)       │ (\u001b[38;5;45mNone\u001b[0m, \u001b[38;5;34m122\u001b[0m)            │             \u001b[38;5;34m0\u001b[0m │\n",
       "├─────────────────────────────────┼────────────────────────┼───────────────┤\n",
       "│ dense (\u001b[38;5;33mDense\u001b[0m)                   │ (\u001b[38;5;45mNone\u001b[0m, \u001b[38;5;34m244\u001b[0m)            │        \u001b[38;5;34m30,012\u001b[0m │\n",
       "├─────────────────────────────────┼────────────────────────┼───────────────┤\n",
       "│ dense_1 (\u001b[38;5;33mDense\u001b[0m)                 │ (\u001b[38;5;45mNone\u001b[0m, \u001b[38;5;34m244\u001b[0m)            │        \u001b[38;5;34m59,780\u001b[0m │\n",
       "├─────────────────────────────────┼────────────────────────┼───────────────┤\n",
       "│ dense_2 (\u001b[38;5;33mDense\u001b[0m)                 │ (\u001b[38;5;45mNone\u001b[0m, \u001b[38;5;34m61\u001b[0m)             │        \u001b[38;5;34m14,945\u001b[0m │\n",
       "└─────────────────────────────────┴────────────────────────┴───────────────┘\n"
      ]
     },
     "metadata": {},
     "output_type": "display_data"
    },
    {
     "data": {
      "text/html": [
       "<pre style=\"white-space:pre;overflow-x:auto;line-height:normal;font-family:Menlo,'DejaVu Sans Mono',consolas,'Courier New',monospace\"><span style=\"font-weight: bold\"> Total params: </span><span style=\"color: #00af00; text-decoration-color: #00af00\">314,213</span> (1.20 MB)\n",
       "</pre>\n"
      ],
      "text/plain": [
       "\u001b[1m Total params: \u001b[0m\u001b[38;5;34m314,213\u001b[0m (1.20 MB)\n"
      ]
     },
     "metadata": {},
     "output_type": "display_data"
    },
    {
     "data": {
      "text/html": [
       "<pre style=\"white-space:pre;overflow-x:auto;line-height:normal;font-family:Menlo,'DejaVu Sans Mono',consolas,'Courier New',monospace\"><span style=\"font-weight: bold\"> Trainable params: </span><span style=\"color: #00af00; text-decoration-color: #00af00\">104,737</span> (409.13 KB)\n",
       "</pre>\n"
      ],
      "text/plain": [
       "\u001b[1m Trainable params: \u001b[0m\u001b[38;5;34m104,737\u001b[0m (409.13 KB)\n"
      ]
     },
     "metadata": {},
     "output_type": "display_data"
    },
    {
     "data": {
      "text/html": [
       "<pre style=\"white-space:pre;overflow-x:auto;line-height:normal;font-family:Menlo,'DejaVu Sans Mono',consolas,'Courier New',monospace\"><span style=\"font-weight: bold\"> Non-trainable params: </span><span style=\"color: #00af00; text-decoration-color: #00af00\">0</span> (0.00 B)\n",
       "</pre>\n"
      ],
      "text/plain": [
       "\u001b[1m Non-trainable params: \u001b[0m\u001b[38;5;34m0\u001b[0m (0.00 B)\n"
      ]
     },
     "metadata": {},
     "output_type": "display_data"
    },
    {
     "data": {
      "text/html": [
       "<pre style=\"white-space:pre;overflow-x:auto;line-height:normal;font-family:Menlo,'DejaVu Sans Mono',consolas,'Courier New',monospace\"><span style=\"font-weight: bold\"> Optimizer params: </span><span style=\"color: #00af00; text-decoration-color: #00af00\">209,476</span> (818.27 KB)\n",
       "</pre>\n"
      ],
      "text/plain": [
       "\u001b[1m Optimizer params: \u001b[0m\u001b[38;5;34m209,476\u001b[0m (818.27 KB)\n"
      ]
     },
     "metadata": {},
     "output_type": "display_data"
    }
   ],
   "source": [
    "# Save the network\n",
    "ai_keras.brain.summary()\n",
    "\n",
    "\n",
    "# Get creative with the brain you use to train a KerasHexAgent, and try writing a subclass changing:\n",
    "#   .prep_training_history(...)\n",
    "#   .chooseMove(...)"
   ]
  },
  {
   "cell_type": "code",
   "execution_count": null,
   "id": "86138e9f",
   "metadata": {},
   "outputs": [],
   "source": []
  }
 ],
 "metadata": {
  "kernelspec": {
   "display_name": "Python 3.11 env",
   "language": "python",
   "name": "python3.11"
  },
  "language_info": {
   "codemirror_mode": {
    "name": "ipython",
    "version": 3
   },
   "file_extension": ".py",
   "mimetype": "text/x-python",
   "name": "python",
   "nbconvert_exporter": "python",
   "pygments_lexer": "ipython3",
   "version": "3.11.10"
  }
 },
 "nbformat": 4,
 "nbformat_minor": 5
}
